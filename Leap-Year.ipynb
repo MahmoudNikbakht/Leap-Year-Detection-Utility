{
 "cells": [
  {
   "cell_type": "code",
   "execution_count": 13,
   "metadata": {},
   "outputs": [
    {
     "name": "stdout",
     "output_type": "stream",
     "text": [
      "age is 34 years or 411 months or 12503 days or  300072 hours or 1080259200 seconds\n"
     ]
    }
   ],
   "source": [
    "# -*- coding: utf-8 -*-\n",
    "import time\n",
    "from calendar import isleap\n",
    "\n",
    "# judge the leap year\n",
    "def judge_leap_year(year):\n",
    "    if isleap(year):\n",
    "        return True\n",
    "    else:\n",
    "        return False\n",
    "\n",
    "\n",
    "# returns the number of days in each month\n",
    "def month_days(month, leap_year):\n",
    "    if month in [1, 3, 5, 7, 8, 10, 12]:\n",
    "        return 31\n",
    "    elif month in [4, 6, 9, 11]:\n",
    "        return 30\n",
    "    elif month == 2 and leap_year:\n",
    "        return 29\n",
    "    elif month == 2 and (not leap_year):\n",
    "        return 28\n",
    "\n",
    "\n",
    "def to_hours(days):\n",
    "    hours=days*24\n",
    "    return hours\n",
    "\n",
    "def to_seconds(days):\n",
    "    sec=days*24*3600\n",
    "    return sec\n",
    "\n",
    "age = input(\"input your age: \")\n",
    "localtime = time.localtime(time.time())\n",
    "\n",
    "year = int(age)\n",
    "month = year * 12 + localtime.tm_mon\n",
    "day = 0\n",
    "\n",
    "begin_year = int(localtime.tm_year) - year\n",
    "end_year = begin_year + year\n",
    "\n",
    "# calculate the days\n",
    "for y in range(begin_year, end_year):\n",
    "    if (judge_leap_year(y)):\n",
    "        day = day + 366\n",
    "    else:\n",
    "        day = day + 365\n",
    "\n",
    "leap_year = judge_leap_year(localtime.tm_year)\n",
    "for m in range(1, localtime.tm_mon):\n",
    "    day = day + month_days(m, leap_year)\n",
    "\n",
    "day = day + localtime.tm_mday\n",
    "hours=to_hours(day)\n",
    "seconds=to_seconds(day)\n",
    "print(\"age is %d years or \" % (year), end=\"\")\n",
    "print(\"%d months or %d days\" % (month, day), end='')\n",
    "print(' or  %d hours or %d seconds' %(hours,seconds))"
   ]
  }
 ],
 "metadata": {
  "kernelspec": {
   "display_name": "Python 3",
   "language": "python",
   "name": "python3"
  },
  "language_info": {
   "codemirror_mode": {
    "name": "ipython",
    "version": 3
   },
   "file_extension": ".py",
   "mimetype": "text/x-python",
   "name": "python",
   "nbconvert_exporter": "python",
   "pygments_lexer": "ipython3",
   "version": "3.13.2"
  }
 },
 "nbformat": 4,
 "nbformat_minor": 2
}
